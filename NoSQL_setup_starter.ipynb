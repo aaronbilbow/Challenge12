{
 "cells": [
  {
   "cell_type": "markdown",
   "id": "9a57c4c6",
   "metadata": {},
   "source": [
    "# Eat Safe, Love"
   ]
  },
  {
   "cell_type": "markdown",
   "id": "064ef857",
   "metadata": {},
   "source": [
    "## Part 1: Database and Jupyter Notebook Set Up"
   ]
  },
  {
   "cell_type": "markdown",
   "id": "664e3c1f",
   "metadata": {},
   "source": [
    "Import the data provided in the `establishments.json` file from your Terminal. Name the database `uk_food` and the collection `establishments`.\n",
    "\n",
    "Within this markdown cell, copy the line of text you used to import the data from your Terminal. This way, future analysts will be able to repeat your process.\n",
    "\n",
    "e.g.: Import the dataset with `YOUR IMPORT TEXT HERE`"
   ]
  },
  {
   "cell_type": "code",
   "execution_count": 1,
   "id": "2e804c53-4a14-443b-8863-21993e7e4ead",
   "metadata": {
    "tags": []
   },
   "outputs": [],
   "source": [
    "#mongoimport --type json -d uk_food -c establishments --drop --jsonArray establishments.json\n",
    "\n",
    "\n"
   ]
  },
  {
   "cell_type": "code",
   "execution_count": 2,
   "id": "3ecdd008",
   "metadata": {
    "tags": []
   },
   "outputs": [],
   "source": [
    "# Import dependencies\n",
    "from pymongo import MongoClient, GEOSPHERE\n",
    "from pprint import pprint\n",
    "import pymongo\n",
    "from bson import ObjectId\n",
    "from pymongo import UpdateMany"
   ]
  },
  {
   "cell_type": "code",
   "execution_count": 3,
   "id": "59390c4a",
   "metadata": {
    "tags": []
   },
   "outputs": [],
   "source": [
    "# Create an instance of MongoClient\n",
    "client = pymongo.MongoClient(port=27017)"
   ]
  },
  {
   "cell_type": "code",
   "execution_count": 4,
   "id": "7f9ececa",
   "metadata": {
    "tags": []
   },
   "outputs": [
    {
     "data": {
      "text/plain": [
       "['admin', 'config', 'local', 'met', 'uk_food', 'your_database_name']"
      ]
     },
     "execution_count": 4,
     "metadata": {},
     "output_type": "execute_result"
    }
   ],
   "source": [
    "# confirm that our new database was created\n",
    "client.list_database_names()"
   ]
  },
  {
   "cell_type": "code",
   "execution_count": 5,
   "id": "71e373c1",
   "metadata": {
    "tags": []
   },
   "outputs": [],
   "source": [
    "# assign the uk_food database to a variable name\n",
    "db = client['uk_food']"
   ]
  },
  {
   "cell_type": "code",
   "execution_count": 6,
   "id": "ef1b89ed",
   "metadata": {
    "tags": []
   },
   "outputs": [
    {
     "name": "stdout",
     "output_type": "stream",
     "text": [
      "['establishments']\n"
     ]
    }
   ],
   "source": [
    "# review the collections in our new database\n",
    "collections = db.list_collection_names()\n",
    "\n",
    "# Print the list of collections\n",
    "print(collections)"
   ]
  },
  {
   "cell_type": "code",
   "execution_count": 7,
   "id": "6a0d92df",
   "metadata": {},
   "outputs": [
    {
     "name": "stdout",
     "output_type": "stream",
     "text": [
      "{'AddressLine1': 'The Bay',\n",
      " 'AddressLine2': 'St Margarets Bay',\n",
      " 'AddressLine3': 'Kent',\n",
      " 'AddressLine4': '',\n",
      " 'BusinessName': 'The Coastguard Inn',\n",
      " 'BusinessType': 'Pub/bar/nightclub',\n",
      " 'BusinessTypeID': 7843,\n",
      " 'ChangesByServerID': 0,\n",
      " 'Distance': 4587.347174863443,\n",
      " 'FHRSID': 1034540,\n",
      " 'LocalAuthorityBusinessID': 'PI/000078691',\n",
      " 'LocalAuthorityCode': '182',\n",
      " 'LocalAuthorityEmailAddress': 'publicprotection@dover.gov.uk',\n",
      " 'LocalAuthorityName': 'Dover',\n",
      " 'LocalAuthorityWebSite': 'http://www.dover.gov.uk/',\n",
      " 'NewRatingPending': False,\n",
      " 'Phone': '',\n",
      " 'PostCode': 'CT15 6DY',\n",
      " 'RatingDate': '2022-08-17T00:00:00',\n",
      " 'RatingKey': 'fhrs_5_en-gb',\n",
      " 'RatingValue': '5',\n",
      " 'RightToReply': '',\n",
      " 'SchemeType': 'FHRS',\n",
      " '_id': ObjectId('65254c07890531766ececa0b'),\n",
      " 'geocode': {'latitude': '51.152225', 'longitude': '1.387974'},\n",
      " 'links': [{'href': 'https://api.ratings.food.gov.uk/establishments/1034540',\n",
      "            'rel': 'self'}],\n",
      " 'meta': {'dataSource': None,\n",
      "          'extractDate': '0001-01-01T00:00:00',\n",
      "          'itemCount': 0,\n",
      "          'pageNumber': 0,\n",
      "          'pageSize': 0,\n",
      "          'returncode': None,\n",
      "          'totalCount': 0,\n",
      "          'totalPages': 0},\n",
      " 'scores': {'ConfidenceInManagement': 0, 'Hygiene': 0, 'Structural': 5}}\n"
     ]
    }
   ],
   "source": [
    "# review a document in the establishments collection\n",
    "establishments = db['establishments']\n",
    "collections = establishments.find_one()\n",
    "\n",
    "# Display the document using pprint\n",
    "pprint(collections)"
   ]
  },
  {
   "cell_type": "code",
   "execution_count": 8,
   "id": "11c9f11b",
   "metadata": {},
   "outputs": [],
   "source": [
    "# assign the collection to a variable\n",
    "establishments = db['establishments']"
   ]
  },
  {
   "cell_type": "markdown",
   "id": "d5671434",
   "metadata": {},
   "source": [
    "## Part 2: Update the Database"
   ]
  },
  {
   "cell_type": "markdown",
   "id": "314bd884",
   "metadata": {},
   "source": [
    "1. An exciting new halal restaurant just opened in Greenwich, but hasn't been rated yet. The magazine has asked you to include it in your analysis. Add the following restaurant \"Penang Flavours\" to the database."
   ]
  },
  {
   "cell_type": "code",
   "execution_count": 9,
   "id": "ae17c794-6fd3-4359-82e9-8e6a9d75cafb",
   "metadata": {
    "tags": []
   },
   "outputs": [
    {
     "name": "stdout",
     "output_type": "stream",
     "text": [
      "None\n"
     ]
    }
   ],
   "source": [
    "# Define the query to find the \"Penang Flavours\" restaurant\n",
    "query = {\"BusinessName\": \"Penang Flavours\"}\n",
    "\n",
    "# Find the restaurant data\n",
    "restaurant_data = db.establishments.find_one(query)\n",
    "\n",
    "# Print the restaurant data\n",
    "print(restaurant_data)"
   ]
  },
  {
   "cell_type": "code",
   "execution_count": 10,
   "id": "d3d1ff28-49c3-4a54-a3bf-523ce4286feb",
   "metadata": {
    "tags": []
   },
   "outputs": [
    {
     "name": "stdout",
     "output_type": "stream",
     "text": [
      "Restaurant not found or deletion failed.\n"
     ]
    }
   ],
   "source": [
    "# Define the query to find the \"Penang Flavours\" restaurant\n",
    "query = {\"BusinessName\": \"Penang Flavours\"}\n",
    "\n",
    "# Delete the restaurant\n",
    "result = db.establishments.delete_one(query)\n",
    "\n",
    "# Check if the deletion was successful\n",
    "if result.deleted_count == 1:\n",
    "    print(\"Successfully deleted the 'Penang Flavours' restaurant.\")\n",
    "else:\n",
    "    print(\"Restaurant not found or deletion failed.\")"
   ]
  },
  {
   "cell_type": "code",
   "execution_count": 11,
   "id": "c2da7648",
   "metadata": {},
   "outputs": [],
   "source": [
    "# Create a dictionary for the new restaurant data\n",
    "new_restaurant_data = {\n",
    "    \"BusinessName\":\"Penang Flavours\",\n",
    "    \"BusinessType\":\"Restaurant/Cafe/Canteen\",\n",
    "    \"BusinessTypeID\":\"\",\n",
    "    \"AddressLine1\":\"Penang Flavours\",\n",
    "    \"AddressLine2\":\"146A Plumstead Rd\",\n",
    "    \"AddressLine3\":\"London\",\n",
    "    \"AddressLine4\":\"\",\n",
    "    \"PostCode\":\"SE18 7DY\",\n",
    "    \"Phone\":\"\",\n",
    "    \"LocalAuthorityCode\":\"511\",\n",
    "    \"LocalAuthorityName\":\"Greenwich\",\n",
    "    \"LocalAuthorityWebSite\":\"http://www.royalgreenwich.gov.uk\",\n",
    "    \"LocalAuthorityEmailAddress\":\"health@royalgreenwich.gov.uk\",\n",
    "    \"scores\":{\n",
    "        \"Hygiene\":\"\",\n",
    "        \"Structural\":\"\",\n",
    "        \"ConfidenceInManagement\":\"\"\n",
    "    },\n",
    "    \"SchemeType\":\"FHRS\",\n",
    "    \"geocode\":{\n",
    "        \"longitude\":\"0.08384000\",\n",
    "        \"latitude\":\"51.49014200\"\n",
    "    },\n",
    "    \"RightToReply\":\"\",\n",
    "    \"Distance\":4623.9723280747176,\n",
    "    \"NewRatingPending\":True\n",
    "}\n",
    "\n"
   ]
  },
  {
   "cell_type": "code",
   "execution_count": 12,
   "id": "63bb10f9",
   "metadata": {},
   "outputs": [
    {
     "name": "stdout",
     "output_type": "stream",
     "text": [
      "The new restaurant's document ID: 65254c61dad06392229c93a2\n"
     ]
    }
   ],
   "source": [
    "# Check that the new restaurant was inserted this is the BusinessTypeID to be entered in 3 cells below\n",
    "inserted_id = establishments.insert_one(new_restaurant_data).inserted_id\n",
    "\n",
    "# Print the inserted document's _id\n",
    "print(f\"The new restaurant's document ID: {inserted_id}\")"
   ]
  },
  {
   "cell_type": "code",
   "execution_count": 13,
   "id": "d78e7d41-2700-45e3-b9f7-048dc0283d42",
   "metadata": {
    "tags": []
   },
   "outputs": [
    {
     "name": "stdout",
     "output_type": "stream",
     "text": [
      "{'_id': ObjectId('65254c61dad06392229c93a2'), 'BusinessName': 'Penang Flavours', 'BusinessType': 'Restaurant/Cafe/Canteen', 'BusinessTypeID': '', 'AddressLine1': 'Penang Flavours', 'AddressLine2': '146A Plumstead Rd', 'AddressLine3': 'London', 'AddressLine4': '', 'PostCode': 'SE18 7DY', 'Phone': '', 'LocalAuthorityCode': '511', 'LocalAuthorityName': 'Greenwich', 'LocalAuthorityWebSite': 'http://www.royalgreenwich.gov.uk', 'LocalAuthorityEmailAddress': 'health@royalgreenwich.gov.uk', 'scores': {'Hygiene': '', 'Structural': '', 'ConfidenceInManagement': ''}, 'SchemeType': 'FHRS', 'geocode': {'longitude': '0.08384000', 'latitude': '51.49014200'}, 'RightToReply': '', 'Distance': 4623.972328074718, 'NewRatingPending': True}\n"
     ]
    }
   ],
   "source": [
    "# Define the query to find the \"Penang Flavours\" restaurant\n",
    "query = {\"BusinessName\": \"Penang Flavours\"}\n",
    "\n",
    "# Find the restaurant data\n",
    "restaurant_data = db.establishments.find_one(query)\n",
    "\n",
    "# Print the restaurant data\n",
    "print(restaurant_data)"
   ]
  },
  {
   "cell_type": "markdown",
   "id": "0ef4395a",
   "metadata": {},
   "source": [
    "2. Find the BusinessTypeID for \"Restaurant/Cafe/Canteen\" and return only the `BusinessTypeID` and `BusinessType` fields."
   ]
  },
  {
   "cell_type": "code",
   "execution_count": 14,
   "id": "93c63829",
   "metadata": {},
   "outputs": [
    {
     "name": "stdout",
     "output_type": "stream",
     "text": [
      "{'BusinessType': 'Restaurant/Cafe/Canteen', 'BusinessTypeID': 1}\n"
     ]
    }
   ],
   "source": [
    "# Find the BusinessTypeID for \"Restaurant/Cafe/Canteen\" and return only the BusinessTypeID and BusinessType fields\n",
    "query = {\n",
    "    \"BusinessType\": \"Restaurant/Cafe/Canteen\"}\n",
    "projection = {\n",
    "    \"_id\": 0,  # Exclude the _id field from the result\n",
    "    \"BusinessTypeID\": 1,\n",
    "    \"BusinessType\": 1\n",
    "}\n",
    "\n",
    "result = establishments.find_one(query, projection)\n",
    "\n",
    "# Print the result\n",
    "print(result)"
   ]
  },
  {
   "cell_type": "markdown",
   "id": "4e570caf",
   "metadata": {},
   "source": [
    "3. Update the new restaurant with the `BusinessTypeID` you found."
   ]
  },
  {
   "cell_type": "code",
   "execution_count": 15,
   "id": "7f599f3d",
   "metadata": {
    "tags": []
   },
   "outputs": [
    {
     "name": "stdout",
     "output_type": "stream",
     "text": [
      "Restaurant updated successfully.\n"
     ]
    }
   ],
   "source": [
    "# Update the new restaurant with the correct BusinessTypeID\n",
    "document_id = ObjectId('65254c61dad06392229c93a2')\n",
    "query = {\"_id\": document_id}\n",
    "updated_data = {\"$set\": {\"BusinessTypeID\":1}}\n",
    "update_result = establishments.update_one(query, updated_data)\n",
    "if update_result.modified_count > 0:\n",
    "    print(\"Restaurant updated successfully.\")\n",
    "else:\n",
    "    print(\"No restaurant was updated.\")\n"
   ]
  },
  {
   "cell_type": "markdown",
   "id": "67281254",
   "metadata": {},
   "source": [
    "4. The magazine is not interested in any establishments in Dover, so check how many documents contain the Dover Local Authority. Then, remove any establishments within the Dover Local Authority from the database, and check the number of documents to ensure they were deleted."
   ]
  },
  {
   "cell_type": "code",
   "execution_count": 16,
   "id": "93ba3c2c-0caf-4135-a2b8-2a3ddd91cc08",
   "metadata": {
    "tags": []
   },
   "outputs": [
    {
     "name": "stdout",
     "output_type": "stream",
     "text": [
      "Aberdeenshire\n",
      "Arun\n",
      "Ashford\n",
      "Babergh\n",
      "Barking and Dagenham\n",
      "Basildon\n",
      "Bexley\n",
      "Braintree\n",
      "Brentwood\n",
      "Bromley\n",
      "Broxbourne\n",
      "Canterbury City\n",
      "Castle Point\n",
      "Chelmsford\n",
      "City of London Corporation\n",
      "Colchester\n",
      "Dartford\n",
      "Dorset\n",
      "Dover\n",
      "East Hertfordshire\n",
      "East Renfrewshire\n",
      "East Suffolk\n",
      "Eastbourne\n",
      "Epping Forest\n",
      "Folkestone and Hythe\n",
      "Gravesham\n",
      "Greenwich\n",
      "Hackney\n",
      "Harlow\n",
      "Hastings\n",
      "Havering\n",
      "Ipswich\n",
      "Kensington and Chelsea\n",
      "Knowsley\n",
      "Lambeth\n",
      "Lewes\n",
      "Lewisham\n",
      "Maidstone\n",
      "Maldon\n",
      "Medway\n",
      "Mid Sussex\n",
      "Newham\n",
      "North Hertfordshire\n",
      "North Norfolk\n",
      "Orkney Islands\n",
      "Pendle\n",
      "Reading\n",
      "Redbridge\n",
      "Rochford\n",
      "Rother\n",
      "Rushmoor\n",
      "Salford\n",
      "Sevenoaks\n",
      "Slough\n",
      "South Cambridgeshire\n",
      "Southend-On-Sea\n",
      "Spelthorne\n",
      "Stratford-on-Avon\n",
      "Sunderland\n",
      "Swale\n",
      "Tandridge\n",
      "Tendring\n",
      "Thanet\n",
      "Thurrock\n",
      "Tonbridge and Malling\n",
      "Tower Hamlets\n",
      "Tunbridge Wells\n",
      "Uttlesford\n",
      "Waltham Forest\n",
      "Wealden\n",
      "West Suffolk\n",
      "York\n"
     ]
    }
   ],
   "source": [
    "# Find all distinct LocalAuthorityName values\n",
    "distinct_local_authorities = establishments.distinct(\"LocalAuthorityName\")\n",
    "\n",
    "# Print all the unique LocalAuthorityName values\n",
    "for authority in distinct_local_authorities:\n",
    "    print(authority)"
   ]
  },
  {
   "cell_type": "code",
   "execution_count": 17,
   "id": "768474a6",
   "metadata": {},
   "outputs": [
    {
     "name": "stdout",
     "output_type": "stream",
     "text": [
      "Number of documents with LocalAuthorityName as 'Dover': 994\n"
     ]
    }
   ],
   "source": [
    "# Find how many documents have LocalAuthorityName as \"Dover\"\n",
    "query = {\"LocalAuthorityName\": \"Dover\"}\n",
    "# Count the number of documents matching the query\n",
    "dover_document_count = establishments.count_documents(query)\n",
    "\n",
    "# Print the count\n",
    "print(f\"Number of documents with LocalAuthorityName as 'Dover': {dover_document_count}\")"
   ]
  },
  {
   "cell_type": "code",
   "execution_count": 18,
   "id": "a11d5f1b",
   "metadata": {},
   "outputs": [
    {
     "name": "stdout",
     "output_type": "stream",
     "text": [
      "Number of documents deleted: 994\n"
     ]
    }
   ],
   "source": [
    "# Delete all documents where LocalAuthorityName is \"Dover\"\n",
    "query = {\"LocalAuthorityName\": \"Dover\"}\n",
    "# Delete all documents matching the query\n",
    "delete_result = establishments.delete_many(query)\n",
    "\n",
    "# Print the number of documents deleted\n",
    "print(f\"Number of documents deleted: {delete_result.deleted_count}\")\n"
   ]
  },
  {
   "cell_type": "code",
   "execution_count": 19,
   "id": "2a51aba0",
   "metadata": {},
   "outputs": [
    {
     "name": "stdout",
     "output_type": "stream",
     "text": [
      "No remaining documents include 'Dover' in LocalAuthorityName.\n"
     ]
    }
   ],
   "source": [
    "# Check if any remaining documents include Dover\n",
    "query = {\"LocalAuthorityName\": \"Dover\"}\n",
    "\n",
    "remaining_count = establishments.count_documents(query)\n",
    "\n",
    "if remaining_count == 0:\n",
    "    print(\"No remaining documents include 'Dover' in LocalAuthorityName.\")\n",
    "else:\n",
    "    print(f\"There are {remaining_count} remaining documents with 'Dover' in LocalAuthorityName.\")"
   ]
  },
  {
   "cell_type": "code",
   "execution_count": 20,
   "id": "8c356f7b",
   "metadata": {},
   "outputs": [
    {
     "name": "stdout",
     "output_type": "stream",
     "text": [
      "{'_id': ObjectId('65254c07890531766ececcee'), 'FHRSID': 1043695, 'ChangesByServerID': 0, 'LocalAuthorityBusinessID': 'PI/000073616', 'BusinessName': 'The Pavilion', 'BusinessType': 'Restaurant/Cafe/Canteen', 'BusinessTypeID': 1, 'AddressLine1': 'East Cliff Pavilion', 'AddressLine2': 'Wear Bay Road', 'AddressLine3': 'Folkestone', 'AddressLine4': 'Kent', 'PostCode': 'CT19 6BL', 'Phone': '', 'RatingValue': '5', 'RatingKey': 'fhrs_5_en-gb', 'RatingDate': '2018-04-04T00:00:00', 'LocalAuthorityCode': '188', 'LocalAuthorityName': 'Folkestone and Hythe', 'LocalAuthorityWebSite': 'http://www.folkestone-hythe.gov.uk', 'LocalAuthorityEmailAddress': 'foodteam@folkestone-hythe.gov.uk', 'scores': {'Hygiene': 5, 'Structural': 5, 'ConfidenceInManagement': 5}, 'SchemeType': 'FHRS', 'geocode': {'longitude': '1.195625', 'latitude': '51.083812'}, 'RightToReply': '', 'Distance': 4591.765489457773, 'NewRatingPending': False, 'meta': {'dataSource': None, 'extractDate': '0001-01-01T00:00:00', 'itemCount': 0, 'returncode': None, 'totalCount': 0, 'totalPages': 0, 'pageSize': 0, 'pageNumber': 0}, 'links': [{'rel': 'self', 'href': 'https://api.ratings.food.gov.uk/establishments/1043695'}]}\n"
     ]
    }
   ],
   "source": [
    "# Check that other documents remain with 'find_one'\n",
    "\n",
    "remaining_document = establishments.find_one()\n",
    "\n",
    "# Check if a document was found\n",
    "if remaining_document:\n",
    "    # Print the remaining document\n",
    "    print(remaining_document)\n",
    "else:\n",
    "    print(\"No remaining documents found.\")"
   ]
  },
  {
   "cell_type": "markdown",
   "id": "e9f1662d",
   "metadata": {},
   "source": [
    "5. Some of the number values are stored as strings, when they should be stored as numbers."
   ]
  },
  {
   "cell_type": "markdown",
   "id": "c46df2df",
   "metadata": {},
   "source": [
    "Use `update_many` to convert `latitude` and `longitude` to decimal numbers."
   ]
  },
  {
   "cell_type": "code",
   "execution_count": 21,
   "id": "fd4112ce",
   "metadata": {},
   "outputs": [
    {
     "name": "stdout",
     "output_type": "stream",
     "text": [
      "Number of documents updated: 38786\n"
     ]
    }
   ],
   "source": [
    "# Define an update operation to convert latitude and longitude to decimal numbers\n",
    "update_operation = [\n",
    "    {\n",
    "        \"$set\": {\n",
    "            \"geocode.latitude\": {\n",
    "                \"$toDouble\": {\n",
    "                    \"$function\": {\n",
    "                        \"body\": \"function(latitude) { return parseFloat(latitude); }\",\n",
    "                        \"args\": [\"$geocode.latitude\"],\n",
    "                        \"lang\": \"js\"\n",
    "                    }\n",
    "                }\n",
    "            },\n",
    "            \"geocode.longitude\": {\n",
    "                \"$toDouble\": {\n",
    "                    \"$function\": {\n",
    "                        \"body\": \"function(longitude) { return parseFloat(longitude); }\",\n",
    "                        \"args\": [\"$geocode.longitude\"],\n",
    "                        \"lang\": \"js\"\n",
    "                    }\n",
    "                }\n",
    "            }\n",
    "        }\n",
    "    }\n",
    "]\n",
    "\n",
    "# Use update_many to apply the update operation to all documents in the collection\n",
    "update_result = establishments.update_many({}, update_operation)\n",
    "\n",
    "# Print the number of documents updated\n",
    "print(f\"Number of documents updated: {update_result.modified_count}\")\n",
    "\n"
   ]
  },
  {
   "cell_type": "code",
   "execution_count": 22,
   "id": "2573d325-8575-4eab-81e1-942214b3f8d6",
   "metadata": {
    "tags": []
   },
   "outputs": [
    {
     "name": "stdout",
     "output_type": "stream",
     "text": [
      "Number of documents updated: 4377\n"
     ]
    }
   ],
   "source": [
    "# Define the query to find documents where \"scores.Hygiene\" is not of numeric type\n",
    "query = {\n",
    "    \"scores.Hygiene\": {\n",
    "        \"$not\": {\n",
    "            \"$type\": \"number\"\n",
    "        }\n",
    "    }\n",
    "}\n",
    "\n",
    "# Define the update operation to set \"scores.Hygiene\" to 0 for matching documents\n",
    "update_operation = {\n",
    "    \"$set\": {\n",
    "        \"scores.Hygiene\": 0\n",
    "    }\n",
    "}\n",
    "\n",
    "# Use update_many to apply the update operation to all documents matching the query\n",
    "update_result = establishments.update_many(query, update_operation)\n",
    "\n",
    "# Print the number of documents updated\n",
    "print(f\"Number of documents updated: {update_result.modified_count}\")"
   ]
  },
  {
   "cell_type": "code",
   "execution_count": 23,
   "id": "2e2fb681-2e67-42ec-9bbd-d774b411abe9",
   "metadata": {
    "tags": []
   },
   "outputs": [
    {
     "name": "stdout",
     "output_type": "stream",
     "text": [
      "Number of documents updated: 34694\n"
     ]
    }
   ],
   "source": [
    "# Define a filter to exclude documents with non-numeric \"RatingValue\"\n",
    "filter_query = {\n",
    "    \"RatingValue\": {\"$regex\": r\"^\\d+$\"}  # Match only numeric values\n",
    "}\n",
    "\n",
    "# Define an update operation to convert \"RatingValue\" to integer numbers\n",
    "update_operation = {\n",
    "    \"$set\": {\n",
    "        \"RatingValue\": {\n",
    "            \"$toInt\": \"$RatingValue\"\n",
    "        }\n",
    "    }\n",
    "}\n",
    "\n",
    "# Use bulk_write to update the documents\n",
    "update_requests = [UpdateMany(filter_query, [update_operation])]\n",
    "\n",
    "# Execute the bulk write operation\n",
    "bulk_result = establishments.bulk_write(update_requests)\n",
    "\n",
    "# Print the number of documents updated\n",
    "print(f\"Number of documents updated: {bulk_result.modified_count}\")"
   ]
  },
  {
   "cell_type": "code",
   "execution_count": 25,
   "id": "04430a5b",
   "metadata": {},
   "outputs": [
    {
     "data": {
      "text/plain": [
       "<pymongo.results.UpdateResult at 0x138f0ddd6c0>"
      ]
     },
     "execution_count": 25,
     "metadata": {},
     "output_type": "execute_result"
    }
   ],
   "source": [
    "# Set non 1-5 Rating Values to Null\n",
    "non_ratings = [\"AwaitingInspection\", \"Awaiting Inspection\", \"AwaitingPublication\", \"Pass\", \"Exempt\"]\n",
    "establishments.update_many({\"RatingValue\": {\"$in\": non_ratings}}, {'$set': {\"RatingValue\": None}})\n"
   ]
  },
  {
   "cell_type": "code",
   "execution_count": 26,
   "id": "92524ccc",
   "metadata": {},
   "outputs": [
    {
     "name": "stdout",
     "output_type": "stream",
     "text": [
      "Number of documents updated: 0\n"
     ]
    }
   ],
   "source": [
    "# Change the data type from String to Integer for RatingValue\n",
    "\n",
    "update_operation = [\n",
    "    {\n",
    "        \"$set\": {\n",
    "            \"RatingValue\": {\n",
    "                \"$toInt\": \"$RatingValue\"\n",
    "            }\n",
    "        }\n",
    "    }\n",
    "]\n",
    "\n",
    "# Use update_many to apply the update operation to all documents in the collection\n",
    "update_result = establishments.update_many(filter_query, update_operation)\n",
    "\n",
    "# Print the number of documents updated\n",
    "print(f\"Number of documents updated: {update_result.modified_count}\")\n"
   ]
  },
  {
   "cell_type": "code",
   "execution_count": 27,
   "id": "0deacaf9",
   "metadata": {},
   "outputs": [
    {
     "name": "stdout",
     "output_type": "stream",
     "text": [
      "Geocode field data type: <class 'dict'>\n",
      "RatingValue field data type: <class 'int'>\n"
     ]
    }
   ],
   "source": [
    "# Check that the coordinates and rating value are now numbers\n",
    "\n",
    "updated_document = establishments.find_one()\n",
    "\n",
    "# Extract and print the geocode and RatingValue fields\n",
    "geocode = updated_document.get(\"geocode\")\n",
    "rating_value = updated_document.get(\"RatingValue\")\n",
    "\n",
    "# Check the data types of the fields\n",
    "geocode_type = type(geocode)\n",
    "rating_value_type = type(rating_value)\n",
    "\n",
    "print(f\"Geocode field data type: {geocode_type}\")\n",
    "print(f\"RatingValue field data type: {rating_value_type}\")\n"
   ]
  },
  {
   "cell_type": "code",
   "execution_count": null,
   "id": "9258a718-c1f5-422f-8a6b-ada8df1eb0c2",
   "metadata": {},
   "outputs": [],
   "source": []
  }
 ],
 "metadata": {
  "kernelspec": {
   "display_name": "Python 3 (ipykernel)",
   "language": "python",
   "name": "python3"
  },
  "language_info": {
   "codemirror_mode": {
    "name": "ipython",
    "version": 3
   },
   "file_extension": ".py",
   "mimetype": "text/x-python",
   "name": "python",
   "nbconvert_exporter": "python",
   "pygments_lexer": "ipython3",
   "version": "3.11.3"
  }
 },
 "nbformat": 4,
 "nbformat_minor": 5
}
